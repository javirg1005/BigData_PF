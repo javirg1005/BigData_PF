{
  "cells": [
    {
      "cell_type": "code",
      "execution_count": 5,
      "metadata": {
        "id": "nXYj1vRY59tu"
      },
      "outputs": [],
      "source": [
        "import json\n",
        "path = 'PF/'\n",
        "with open(path + 'mv_players.json', encoding='utf-8') as file:\n",
        "    json_mv_players = json.load(file)\n",
        "\n",
        "with open(path + 'mv_clubs.json', encoding='utf-8') as file:\n",
        "    json_mv_clubs = json.load(file)\n",
        "\n",
        "with open(path + 'mv_cards.json', encoding='utf-8') as file:\n",
        "    json_mv_cards = json.load(file)\n",
        "\n",
        "with open(path + 'mv_cp.json', encoding='utf-8') as file:\n",
        "    json_mv_cp = json.load(file) \n",
        "\n",
        "with open(path + 'mv_leagues.json', encoding='utf-8') as file:\n",
        "    json_mv_leagues = json.load(file)\n",
        "\n",
        "with open(path + 'mv_gt.json', encoding='utf-8') as file:\n",
        "    json_mv_gt = json.load(file)\n",
        "\n",
        "with open(path + 'mv_gavgp.json', encoding='utf-8') as file:\n",
        "    json_mv_gavgp = json.load(file)\n",
        "\n",
        "with open(path + 'mv_mvpais.json', encoding='utf-8') as file:\n",
        "    json_mv_mvpais = json.load(file)"
      ]
    },
    {
      "cell_type": "code",
      "execution_count": 6,
      "metadata": {
        "colab": {
          "base_uri": "https://localhost:8080/"
        },
        "id": "pWkjS_k76C5E",
        "outputId": "36fc3541-1d74-4621-d62d-3a6047ece547"
      },
      "outputs": [
        {
          "name": "stdout",
          "output_type": "stream",
          "text": [
            "YO YO YO YO YOYOYO\n",
            " * Serving Flask app '__main__' (lazy loading)\n",
            " * Environment: production\n",
            "   WARNING: This is a development server. Do not use it in a production deployment.\n",
            "   Use a production WSGI server instead.\n",
            " * Debug mode: off\n"
          ]
        },
        {
          "name": "stderr",
          "output_type": "stream",
          "text": [
            " * Running on http://127.0.0.1:5000/ (Press CTRL+C to quit)\n",
            "127.0.0.1 - - [23/Jan/2022 20:40:44] \"GET / HTTP/1.1\" 200 -\n",
            "127.0.0.1 - - [23/Jan/2022 20:40:44] \"GET /favicon.ico HTTP/1.1\" 404 -\n",
            "127.0.0.1 - - [23/Jan/2022 20:40:45] \"GET /api/v1/playercards HTTP/1.1\" 200 -\n",
            "127.0.0.1 - - [23/Jan/2022 20:40:46] \"GET /favicon.ico HTTP/1.1\" 404 -\n",
            "127.0.0.1 - - [23/Jan/2022 20:40:52] \"GET / HTTP/1.1\" 200 -\n",
            "127.0.0.1 - - [23/Jan/2022 20:40:54] \"GET /api/v1/countryplayes HTTP/1.1\" 200 -\n",
            "127.0.0.1 - - [23/Jan/2022 20:40:54] \"GET /favicon.ico HTTP/1.1\" 404 -\n",
            "127.0.0.1 - - [23/Jan/2022 20:41:15] \"GET / HTTP/1.1\" 200 -\n",
            "127.0.0.1 - - [23/Jan/2022 20:41:15] \"GET /favicon.ico HTTP/1.1\" 404 -\n",
            "127.0.0.1 - - [23/Jan/2022 20:41:28] \"GET /api/v1/countryplayes HTTP/1.1\" 200 -\n",
            "127.0.0.1 - - [23/Jan/2022 20:42:05] \"GET /api/v1/teamvalue HTTP/1.1\" 200 -\n",
            "127.0.0.1 - - [23/Jan/2022 20:42:05] \"GET /api/v1/playervalue HTTP/1.1\" 200 -\n",
            "127.0.0.1 - - [23/Jan/2022 20:42:06] \"GET /api/v1/playercards HTTP/1.1\" 200 -\n",
            "127.0.0.1 - - [23/Jan/2022 20:42:06] \"GET /api/v1/countrycups HTTP/1.1\" 200 -\n",
            "127.0.0.1 - - [23/Jan/2022 20:42:07] \"GET /api/v1/countryplayes HTTP/1.1\" 200 -\n",
            "127.0.0.1 - - [23/Jan/2022 20:47:51] \"GET /api/v1/goalsteams HTTP/1.1\" 200 -\n",
            "127.0.0.1 - - [23/Jan/2022 20:47:51] \"GET /api/v1/goalsteams HTTP/1.1\" 200 -\n",
            "127.0.0.1 - - [23/Jan/2022 20:47:52] \"GET /api/v1/goalsplayer HTTP/1.1\" 200 -\n",
            "127.0.0.1 - - [23/Jan/2022 20:47:52] \"GET /api/v1/goalsplayer HTTP/1.1\" 200 -\n",
            "127.0.0.1 - - [23/Jan/2022 20:50:53] \"GET /api/v1/teamvalue HTTP/1.1\" 200 -\n",
            "127.0.0.1 - - [23/Jan/2022 20:50:54] \"GET /api/v1/playervalue HTTP/1.1\" 200 -\n",
            "127.0.0.1 - - [23/Jan/2022 20:50:54] \"GET /api/v1/playercards HTTP/1.1\" 200 -\n",
            "127.0.0.1 - - [23/Jan/2022 20:50:55] \"GET /api/v1/countrycups HTTP/1.1\" 200 -\n",
            "127.0.0.1 - - [23/Jan/2022 20:50:55] \"GET /api/v1/countryplayes HTTP/1.1\" 200 -\n",
            "127.0.0.1 - - [23/Jan/2022 20:50:56] \"GET /api/v1/goalsteams HTTP/1.1\" 200 -\n",
            "127.0.0.1 - - [23/Jan/2022 20:50:56] \"GET /api/v1/goalsplayer HTTP/1.1\" 200 -\n",
            "127.0.0.1 - - [23/Jan/2022 20:53:28] \"GET /api/v1/mvpais HTTP/1.1\" 200 -\n",
            "127.0.0.1 - - [23/Jan/2022 20:53:28] \"GET /api/v1/mvpais HTTP/1.1\" 200 -\n"
          ]
        }
      ],
      "source": [
        "from flask import Flask\n",
        "\n",
        "app = Flask(__name__) \n",
        "\n",
        "@app.route(\"/\") \n",
        "def home(): \n",
        "    return \"<h1>Que dato quieres ver</h1><br><ul> <li>http://127.0.0.1:5000/api/v1/teamvalue</li><li>http://127.0.0.1:5000/api/v1/playervalue</li><li>http://127.0.0.1:5000/api/v1/playercards</li><li>http://127.0.0.1:5000/api/v1/countrycups</li><li>http://127.0.0.1:5000/api/v1/countryplayes</li><li>http://127.0.0.1:5000/api/v1/goalsteams</li><li>http://127.0.0.1:5000/api/v1/goalsplayer</li><li>http://127.0.0.1:5000/api/v1/mvpais</li></ul>\"\n",
        "\n",
        "@app.route('/api/v1/teamvalue', methods=['GET'])\n",
        "def get_equipos():\n",
        "    return json_mv_clubs\n",
        "\n",
        "@app.route('/api/v1/playervalue', methods=['GET'])\n",
        "def get_value_player():\n",
        "    return json_mv_players\n",
        "\n",
        "@app.route('/api/v1/playercards', methods=['GET'])\n",
        "def get_cards_player():\n",
        "    return json_mv_cards\n",
        "\n",
        "@app.route('/api/v1/countrycups', methods=['GET'])\n",
        "def get_country_leagues():\n",
        "    return json_mv_leagues\n",
        "\n",
        "@app.route('/api/v1/countryplayes', methods=['GET'])\n",
        "def get_country_player():\n",
        "    return json_mv_cp\n",
        "\n",
        "@app.route('/api/v1/goalsteams', methods=['GET'])\n",
        "def get_goal_teams():\n",
        "    return json_mv_gt\n",
        "\n",
        "@app.route('/api/v1/goalsplayer', methods=['GET'])\n",
        "def get_goals_player():\n",
        "    return json_mv_gavgp\n",
        "\n",
        "@app.route('/api/v1/mvpais', methods=['GET'])\n",
        "def get_mvpais():\n",
        "    return json_mv_mvpais\n",
        "\n",
        "\n",
        "print(\"YO YO YO YO YOYOYO\")\n",
        "app.run()\n",
        "print(\"Se ha acabado la ejecucion\")"
      ]
    }
  ],
  "metadata": {
    "colab": {
      "name": "API_FUTBOL.ipynb",
      "provenance": []
    },
    "kernelspec": {
      "display_name": "Python 3",
      "name": "python3"
    },
    "language_info": {
      "codemirror_mode": {
        "name": "ipython",
        "version": 3
      },
      "file_extension": ".py",
      "mimetype": "text/x-python",
      "name": "python",
      "nbconvert_exporter": "python",
      "pygments_lexer": "ipython3",
      "version": "3.9.10"
    }
  },
  "nbformat": 4,
  "nbformat_minor": 0
}
